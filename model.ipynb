{
 "cells": [
  {
   "cell_type": "code",
   "execution_count": 1,
   "metadata": {},
   "outputs": [],
   "source": [
    "import tensorflow as tf\n",
    "import keras\n",
    "from keras.preprocessing.text import Tokenizer\n",
    "from keras.preprocessing.sequence import pad_sequences\n",
    "from keras.layers import Embedding, LSTM, Dense, Bidirectional, GlobalMaxPooling1D, Dropout\n",
    "from keras.layers.experimental.preprocessing import TextVectorization\n",
    "from keras.models import Sequential\n",
    "import json\n",
    "import numpy as np"
   ]
  },
  {
   "cell_type": "code",
   "execution_count": 2,
   "metadata": {},
   "outputs": [],
   "source": [
    "def load_data_from_jsonl(file_path):\n",
    "    data = []\n",
    "    with open(file_path, 'r') as f:\n",
    "        for line in f:\n",
    "            data.append(json.loads(line))\n",
    "    return data\n",
    "\n",
    "\n",
    "train_data = load_data_from_jsonl('train.jsonl')\n",
    "val_data = load_data_from_jsonl('validation.jsonl')\n",
    "test_data = load_data_from_jsonl('test.jsonl')\n",
    "\n",
    "train_texts = [entry['text'] for entry in train_data]\n",
    "train_labels = [entry['label'] for entry in train_data]\n",
    "\n",
    "val_texts = [entry['text'] for entry in val_data]\n",
    "val_labels = [entry['label'] for entry in val_data]\n",
    "\n",
    "test_texts = [entry['text'] for entry in test_data]\n",
    "test_labels = [entry['label'] for entry in test_data]\n",
    "\n",
    "train_labels = np.array(train_labels)\n",
    "val_labels = np.array(val_labels)\n",
    "\n",
    "max_words = 30000 \n",
    "max_sequence_length = 100 \n",
    "embedding_dim = 100 \n",
    "lstm_units = 64 \n",
    "dropout_rate = 0.5  \n",
    "num_classes = 6 \n",
    "\n",
    "tokenizer = Tokenizer(num_words=max_words)\n",
    "tokenizer.fit_on_texts(train_texts)"
   ]
  },
  {
   "cell_type": "code",
   "execution_count": 3,
   "metadata": {},
   "outputs": [],
   "source": [
    "train_sequences = tokenizer.texts_to_sequences(train_texts)\n",
    "val_sequences = tokenizer.texts_to_sequences(val_texts)\n",
    "test_sequences = tokenizer.texts_to_sequences(test_texts)\n",
    "\n",
    "# Pad sequences to ensure consistent length\n",
    "train_sequences = pad_sequences(train_sequences, maxlen=max_sequence_length)\n",
    "val_sequences = pad_sequences(val_sequences, maxlen=max_sequence_length)\n",
    "test_sequences = pad_sequences(test_sequences, maxlen=max_sequence_length)\n"
   ]
  },
  {
   "cell_type": "code",
   "execution_count": 4,
   "metadata": {},
   "outputs": [
    {
     "name": "stdout",
     "output_type": "stream",
     "text": [
      "Model: \"sequential\"\n",
      "_________________________________________________________________\n",
      " Layer (type)                Output Shape              Param #   \n",
      "=================================================================\n",
      " embedding (Embedding)       (None, 100, 100)          3000000   \n",
      "                                                                 \n",
      " bidirectional (Bidirection  (None, 100, 128)          84480     \n",
      " al)                                                             \n",
      "                                                                 \n",
      " global_max_pooling1d (Glob  (None, 128)               0         \n",
      " alMaxPooling1D)                                                 \n",
      "                                                                 \n",
      " dropout (Dropout)           (None, 128)               0         \n",
      "                                                                 \n",
      " dense (Dense)               (None, 128)               16512     \n",
      "                                                                 \n",
      " dropout_1 (Dropout)         (None, 128)               0         \n",
      "                                                                 \n",
      " dense_1 (Dense)             (None, 6)                 774       \n",
      "                                                                 \n",
      "=================================================================\n",
      "Total params: 3101766 (11.83 MB)\n",
      "Trainable params: 3101766 (11.83 MB)\n",
      "Non-trainable params: 0 (0.00 Byte)\n",
      "_________________________________________________________________\n"
     ]
    }
   ],
   "source": [
    "model = Sequential()\n",
    "model.add(Embedding(input_dim=max_words, output_dim=embedding_dim, input_length=max_sequence_length))\n",
    "model.add(Bidirectional(LSTM(lstm_units, return_sequences=True)))\n",
    "model.add(GlobalMaxPooling1D())\n",
    "model.add(Dropout(dropout_rate))\n",
    "model.add(Dense(128, activation='relu'))\n",
    "model.add(Dropout(dropout_rate))\n",
    "model.add(Dense(num_classes, activation='softmax'))\n",
    "\n",
    "model.compile(optimizer='adam', loss='sparse_categorical_crossentropy', metrics=['accuracy'])\n",
    "\n",
    "model.summary()"
   ]
  },
  {
   "cell_type": "code",
   "execution_count": 5,
   "metadata": {},
   "outputs": [
    {
     "name": "stdout",
     "output_type": "stream",
     "text": [
      "Epoch 1/10\n",
      "250/250 [==============================] - 43s 158ms/step - loss: 1.3753 - accuracy: 0.4526 - val_loss: 0.7160 - val_accuracy: 0.7190\n",
      "Epoch 2/10\n",
      "250/250 [==============================] - 40s 160ms/step - loss: 0.5026 - accuracy: 0.8194 - val_loss: 0.2918 - val_accuracy: 0.8935\n",
      "Epoch 3/10\n",
      "250/250 [==============================] - 33s 132ms/step - loss: 0.2252 - accuracy: 0.9222 - val_loss: 0.2228 - val_accuracy: 0.9150\n",
      "Epoch 4/10\n",
      "250/250 [==============================] - 34s 135ms/step - loss: 0.1487 - accuracy: 0.9508 - val_loss: 0.2609 - val_accuracy: 0.9080\n",
      "Epoch 5/10\n",
      "250/250 [==============================] - 35s 138ms/step - loss: 0.1059 - accuracy: 0.9659 - val_loss: 0.2628 - val_accuracy: 0.9225\n",
      "Epoch 6/10\n",
      "250/250 [==============================] - 34s 136ms/step - loss: 0.0840 - accuracy: 0.9721 - val_loss: 0.2738 - val_accuracy: 0.9190\n",
      "Epoch 7/10\n",
      "250/250 [==============================] - 40s 159ms/step - loss: 0.0708 - accuracy: 0.9779 - val_loss: 0.2627 - val_accuracy: 0.9185\n",
      "Epoch 8/10\n",
      "250/250 [==============================] - 36s 143ms/step - loss: 0.0555 - accuracy: 0.9809 - val_loss: 0.3182 - val_accuracy: 0.9120\n",
      "Epoch 9/10\n",
      "250/250 [==============================] - 37s 147ms/step - loss: 0.0478 - accuracy: 0.9840 - val_loss: 0.2729 - val_accuracy: 0.9210\n",
      "Epoch 10/10\n",
      "250/250 [==============================] - 34s 136ms/step - loss: 0.0437 - accuracy: 0.9850 - val_loss: 0.3012 - val_accuracy: 0.9225\n"
     ]
    },
    {
     "data": {
      "text/plain": [
       "<keras.src.callbacks.History at 0x2017dc25510>"
      ]
     },
     "execution_count": 5,
     "metadata": {},
     "output_type": "execute_result"
    }
   ],
   "source": [
    "model.fit(train_sequences, train_labels, epochs=10, batch_size=64, validation_data=(val_sequences, val_labels))\n"
   ]
  },
  {
   "cell_type": "code",
   "execution_count": 6,
   "metadata": {},
   "outputs": [
    {
     "name": "stderr",
     "output_type": "stream",
     "text": [
      "c:\\Users\\srini\\AppData\\Local\\Programs\\Python\\Python311\\Lib\\site-packages\\keras\\src\\engine\\training.py:3000: UserWarning: You are saving your model as an HDF5 file via `model.save()`. This file format is considered legacy. We recommend using instead the native Keras format, e.g. `model.save('my_model.keras')`.\n",
      "  saving_api.save_model(\n"
     ]
    }
   ],
   "source": [
    "model.save(\"emotion_classification_model.h5\")"
   ]
  },
  {
   "cell_type": "code",
   "execution_count": 7,
   "metadata": {},
   "outputs": [],
   "source": [
    "# Save the tokenizer's word index and configuration\n",
    "tokenizer_word_index = tokenizer.word_index\n",
    "tokenizer_config = tokenizer.get_config()\n",
    "\n",
    "with open(\"tokenizer_word_index.json\", \"w\") as json_file:\n",
    "    json.dump(tokenizer_word_index, json_file)\n",
    "\n",
    "with open(\"tokenizer_config.json\", \"w\") as json_file:\n",
    "    json.dump(tokenizer_config, json_file)"
   ]
  }
 ],
 "metadata": {
  "kernelspec": {
   "display_name": "Python 3",
   "language": "python",
   "name": "python3"
  },
  "language_info": {
   "codemirror_mode": {
    "name": "ipython",
    "version": 3
   },
   "file_extension": ".py",
   "mimetype": "text/x-python",
   "name": "python",
   "nbconvert_exporter": "python",
   "pygments_lexer": "ipython3",
   "version": "3.11.4"
  },
  "orig_nbformat": 4
 },
 "nbformat": 4,
 "nbformat_minor": 2
}
