{
 "cells": [
  {
   "cell_type": "code",
   "execution_count": 31,
   "metadata": {},
   "outputs": [],
   "source": [
    "import pandas as pd\n",
    "import numpy as np\n",
    "import tensorflow as tf\n",
    "from tensorflow import keras\n",
    "from keras.preprocessing.text import Tokenizer\n",
    "from keras.preprocessing.sequence import pad_sequences\n",
    "from keras.layers import Embedding, LSTM, Dense, Bidirectional, GlobalMaxPooling1D, Dropout\n",
    "from keras.models import Sequential\n",
    "import json"
   ]
  },
  {
   "cell_type": "code",
   "execution_count": 32,
   "metadata": {},
   "outputs": [],
   "source": [
    "def load_data_from_csv(file_path):\n",
    "    data = pd.read_csv(file_path)\n",
    "    texts = data['text'].tolist()\n",
    "    labels = data['label'].tolist()\n",
    "    return texts, labels\n",
    "\n",
    "train_texts, train_labels = load_data_from_csv('sentiment_train.csv')\n",
    "val_texts, val_labels = load_data_from_csv('sentiment_validation.csv')\n",
    "test_texts, test_labels = load_data_from_csv('sentiment_test.csv')"
   ]
  },
  {
   "cell_type": "code",
   "execution_count": 33,
   "metadata": {},
   "outputs": [],
   "source": [
    "train_labels = np.array(train_labels)\n",
    "val_labels = np.array(val_labels)"
   ]
  },
  {
   "cell_type": "code",
   "execution_count": 34,
   "metadata": {},
   "outputs": [],
   "source": [
    "max_words = 30000 \n",
    "max_sequence_length = 100 \n",
    "embedding_dim = 100 \n",
    "lstm_units = 64 \n",
    "dropout_rate = 0.5  \n",
    "num_classes = 3 "
   ]
  },
  {
   "cell_type": "code",
   "execution_count": 35,
   "metadata": {},
   "outputs": [],
   "source": [
    "tokenizer = Tokenizer(num_words=max_words)\n",
    "tokenizer.fit_on_texts(train_texts)\n",
    "\n",
    "train_sequences = tokenizer.texts_to_sequences(train_texts)\n",
    "val_sequences = tokenizer.texts_to_sequences(val_texts)\n",
    "test_sequences = tokenizer.texts_to_sequences(test_texts)"
   ]
  },
  {
   "cell_type": "code",
   "execution_count": 36,
   "metadata": {},
   "outputs": [],
   "source": [
    "train_sequences = pad_sequences(train_sequences, maxlen=max_sequence_length)\n",
    "val_sequences = pad_sequences(val_sequences, maxlen=max_sequence_length)\n",
    "test_sequences = pad_sequences(test_sequences, maxlen=max_sequence_length)"
   ]
  },
  {
   "cell_type": "code",
   "execution_count": 37,
   "metadata": {},
   "outputs": [
    {
     "name": "stdout",
     "output_type": "stream",
     "text": [
      "Model: \"sequential_3\"\n",
      "_________________________________________________________________\n",
      " Layer (type)                Output Shape              Param #   \n",
      "=================================================================\n",
      " embedding_3 (Embedding)     (None, 100, 100)          3000000   \n",
      "                                                                 \n",
      " bidirectional_3 (Bidirecti  (None, 100, 128)          84480     \n",
      " onal)                                                           \n",
      "                                                                 \n",
      " global_max_pooling1d_3 (Gl  (None, 128)               0         \n",
      " obalMaxPooling1D)                                               \n",
      "                                                                 \n",
      " dropout_6 (Dropout)         (None, 128)               0         \n",
      "                                                                 \n",
      " dense_6 (Dense)             (None, 128)               16512     \n",
      "                                                                 \n",
      " dropout_7 (Dropout)         (None, 128)               0         \n",
      "                                                                 \n",
      " dense_7 (Dense)             (None, 3)                 387       \n",
      "                                                                 \n",
      "=================================================================\n",
      "Total params: 3101379 (11.83 MB)\n",
      "Trainable params: 3101379 (11.83 MB)\n",
      "Non-trainable params: 0 (0.00 Byte)\n",
      "_________________________________________________________________\n"
     ]
    }
   ],
   "source": [
    "model = Sequential()\n",
    "model.add(Embedding(input_dim=max_words, output_dim=embedding_dim, input_length=max_sequence_length))\n",
    "model.add(Bidirectional(LSTM(lstm_units, return_sequences=True)))\n",
    "model.add(GlobalMaxPooling1D())\n",
    "model.add(Dropout(dropout_rate))\n",
    "model.add(Dense(128, activation='relu'))\n",
    "model.add(Dropout(dropout_rate))\n",
    "model.add(Dense(num_classes, activation='softmax'))\n",
    "\n",
    "model.compile(optimizer='adam', loss='sparse_categorical_crossentropy', metrics=['accuracy'])\n",
    "\n",
    "model.summary()"
   ]
  },
  {
   "cell_type": "code",
   "execution_count": 38,
   "metadata": {},
   "outputs": [
    {
     "name": "stdout",
     "output_type": "stream",
     "text": [
      "Epoch 1/10\n",
      "713/713 [==============================] - 72s 97ms/step - loss: 0.8576 - accuracy: 0.5897 - val_loss: 0.7466 - val_accuracy: 0.6680\n",
      "Epoch 2/10\n",
      "713/713 [==============================] - 68s 95ms/step - loss: 0.6440 - accuracy: 0.7221 - val_loss: 0.7475 - val_accuracy: 0.6625\n",
      "Epoch 3/10\n",
      "713/713 [==============================] - 68s 96ms/step - loss: 0.5015 - accuracy: 0.7926 - val_loss: 0.8450 - val_accuracy: 0.6550\n",
      "Epoch 4/10\n",
      "713/713 [==============================] - 71s 99ms/step - loss: 0.3820 - accuracy: 0.8489 - val_loss: 0.9793 - val_accuracy: 0.6485\n",
      "Epoch 5/10\n",
      "713/713 [==============================] - 69s 97ms/step - loss: 0.2937 - accuracy: 0.8849 - val_loss: 1.1882 - val_accuracy: 0.6490\n",
      "Epoch 6/10\n",
      "713/713 [==============================] - 67s 95ms/step - loss: 0.2324 - accuracy: 0.9106 - val_loss: 1.4510 - val_accuracy: 0.6250\n",
      "Epoch 7/10\n",
      "713/713 [==============================] - 66s 92ms/step - loss: 0.1851 - accuracy: 0.9295 - val_loss: 1.6664 - val_accuracy: 0.6165\n",
      "Epoch 8/10\n",
      "713/713 [==============================] - 66s 92ms/step - loss: 0.1533 - accuracy: 0.9419 - val_loss: 1.8145 - val_accuracy: 0.6200\n",
      "Epoch 9/10\n",
      "713/713 [==============================] - 70s 98ms/step - loss: 0.1286 - accuracy: 0.9524 - val_loss: 2.1817 - val_accuracy: 0.6250\n",
      "Epoch 10/10\n",
      "713/713 [==============================] - 72s 100ms/step - loss: 0.1092 - accuracy: 0.9590 - val_loss: 2.2020 - val_accuracy: 0.6145\n"
     ]
    },
    {
     "data": {
      "text/plain": [
       "<keras.src.callbacks.History at 0x19c626464d0>"
      ]
     },
     "execution_count": 38,
     "metadata": {},
     "output_type": "execute_result"
    }
   ],
   "source": [
    "model.fit(train_sequences, train_labels, epochs=10, batch_size=64, validation_data=(val_sequences, val_labels))"
   ]
  },
  {
   "cell_type": "code",
   "execution_count": 39,
   "metadata": {},
   "outputs": [
    {
     "name": "stderr",
     "output_type": "stream",
     "text": [
      "c:\\Users\\srini\\AppData\\Local\\Programs\\Python\\Python311\\Lib\\site-packages\\keras\\src\\engine\\training.py:3000: UserWarning: You are saving your model as an HDF5 file via `model.save()`. This file format is considered legacy. We recommend using instead the native Keras format, e.g. `model.save('my_model.keras')`.\n",
      "  saving_api.save_model(\n"
     ]
    }
   ],
   "source": [
    "model.save(\"emotion_classification_model_v2.h5\")\n",
    "\n",
    "# Save the tokenizer's word index and configuration\n",
    "tokenizer_word_index = tokenizer.word_index\n",
    "tokenizer_config = tokenizer.get_config()\n",
    "\n",
    "with open(\"tokenizer_word_index.json\", \"w\") as json_file:\n",
    "    json.dump(tokenizer_word_index, json_file)\n",
    "\n",
    "with open(\"tokenizer_config.json\", \"w\") as json_file:\n",
    "    json.dump(tokenizer_config, json_file)"
   ]
  }
 ],
 "metadata": {
  "kernelspec": {
   "display_name": "Python 3",
   "language": "python",
   "name": "python3"
  },
  "language_info": {
   "codemirror_mode": {
    "name": "ipython",
    "version": 3
   },
   "file_extension": ".py",
   "mimetype": "text/x-python",
   "name": "python",
   "nbconvert_exporter": "python",
   "pygments_lexer": "ipython3",
   "version": "3.11.4"
  },
  "orig_nbformat": 4
 },
 "nbformat": 4,
 "nbformat_minor": 2
}
